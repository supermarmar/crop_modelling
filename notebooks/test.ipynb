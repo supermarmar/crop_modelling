{
 "cells": [
  {
   "cell_type": "code",
   "execution_count": 1,
   "id": "a31d8ad0",
   "metadata": {},
   "outputs": [
    {
     "name": "stderr",
     "output_type": "stream",
     "text": [
      "\u001b[32m2025-07-20 23:09:56.109\u001b[0m | \u001b[1mINFO    \u001b[0m | \u001b[36mcrop_modelling.config\u001b[0m:\u001b[36m<module>\u001b[0m:\u001b[36m11\u001b[0m - \u001b[1mPROJ_ROOT path is: C:\\Users\\mario\\OneDrive\\Documents\\Work\\Clients\\Agnify\\crop_modelling\u001b[0m\n"
     ]
    }
   ],
   "source": [
    "from crop_modelling.config import DATA_DIR"
   ]
  }
 ],
 "metadata": {
  "kernelspec": {
   "display_name": "crop-modelling-py3.13",
   "language": "python",
   "name": "python3"
  },
  "language_info": {
   "codemirror_mode": {
    "name": "ipython",
    "version": 3
   },
   "file_extension": ".py",
   "mimetype": "text/x-python",
   "name": "python",
   "nbconvert_exporter": "python",
   "pygments_lexer": "ipython3",
   "version": "3.13.0"
  }
 },
 "nbformat": 4,
 "nbformat_minor": 5
}
